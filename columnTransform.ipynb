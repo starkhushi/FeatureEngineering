{
  "nbformat": 4,
  "nbformat_minor": 0,
  "metadata": {
    "colab": {
      "provenance": []
    },
    "kernelspec": {
      "name": "python3",
      "display_name": "Python 3"
    },
    "language_info": {
      "name": "python"
    }
  },
  "cells": [
    {
      "cell_type": "code",
      "execution_count": null,
      "metadata": {
        "id": "MNSAYJTToxfE"
      },
      "outputs": [],
      "source": [
        "import numpy as np\n",
        "import pandas as pd\n",
        "\n",
        "from sklearn.impute import SimpleImputer\n",
        "from sklearn.preprocessing import OneHotEncoder\n",
        "from sklearn.preprocessing import OrdinalEncoder\n"
      ]
    },
    {
      "cell_type": "code",
      "source": [
        "df=pd.read_csv('https://raw.githubusercontent.com/campusx-official/100-days-of-machine-learning/main/day28-column-transformer/covid_toy.csv')"
      ],
      "metadata": {
        "id": "I-Cp91vjqcUR"
      },
      "execution_count": null,
      "outputs": []
    },
    {
      "cell_type": "code",
      "source": [
        "df.head()"
      ],
      "metadata": {
        "colab": {
          "base_uri": "https://localhost:8080/",
          "height": 206
        },
        "id": "YFUlGtjLqwwx",
        "outputId": "057013c7-e5e4-4e2d-e9e1-23393666ae3f"
      },
      "execution_count": null,
      "outputs": [
        {
          "output_type": "execute_result",
          "data": {
            "text/plain": [
              "   age  gender  fever cough     city has_covid\n",
              "0   60    Male  103.0  Mild  Kolkata        No\n",
              "1   27    Male  100.0  Mild    Delhi       Yes\n",
              "2   42    Male  101.0  Mild    Delhi        No\n",
              "3   31  Female   98.0  Mild  Kolkata        No\n",
              "4   65  Female  101.0  Mild   Mumbai        No"
            ],
            "text/html": [
              "\n",
              "  <div id=\"df-44a6db50-d05b-4bfe-94e3-dd1d2c2bfc93\">\n",
              "    <div class=\"colab-df-container\">\n",
              "      <div>\n",
              "<style scoped>\n",
              "    .dataframe tbody tr th:only-of-type {\n",
              "        vertical-align: middle;\n",
              "    }\n",
              "\n",
              "    .dataframe tbody tr th {\n",
              "        vertical-align: top;\n",
              "    }\n",
              "\n",
              "    .dataframe thead th {\n",
              "        text-align: right;\n",
              "    }\n",
              "</style>\n",
              "<table border=\"1\" class=\"dataframe\">\n",
              "  <thead>\n",
              "    <tr style=\"text-align: right;\">\n",
              "      <th></th>\n",
              "      <th>age</th>\n",
              "      <th>gender</th>\n",
              "      <th>fever</th>\n",
              "      <th>cough</th>\n",
              "      <th>city</th>\n",
              "      <th>has_covid</th>\n",
              "    </tr>\n",
              "  </thead>\n",
              "  <tbody>\n",
              "    <tr>\n",
              "      <th>0</th>\n",
              "      <td>60</td>\n",
              "      <td>Male</td>\n",
              "      <td>103.0</td>\n",
              "      <td>Mild</td>\n",
              "      <td>Kolkata</td>\n",
              "      <td>No</td>\n",
              "    </tr>\n",
              "    <tr>\n",
              "      <th>1</th>\n",
              "      <td>27</td>\n",
              "      <td>Male</td>\n",
              "      <td>100.0</td>\n",
              "      <td>Mild</td>\n",
              "      <td>Delhi</td>\n",
              "      <td>Yes</td>\n",
              "    </tr>\n",
              "    <tr>\n",
              "      <th>2</th>\n",
              "      <td>42</td>\n",
              "      <td>Male</td>\n",
              "      <td>101.0</td>\n",
              "      <td>Mild</td>\n",
              "      <td>Delhi</td>\n",
              "      <td>No</td>\n",
              "    </tr>\n",
              "    <tr>\n",
              "      <th>3</th>\n",
              "      <td>31</td>\n",
              "      <td>Female</td>\n",
              "      <td>98.0</td>\n",
              "      <td>Mild</td>\n",
              "      <td>Kolkata</td>\n",
              "      <td>No</td>\n",
              "    </tr>\n",
              "    <tr>\n",
              "      <th>4</th>\n",
              "      <td>65</td>\n",
              "      <td>Female</td>\n",
              "      <td>101.0</td>\n",
              "      <td>Mild</td>\n",
              "      <td>Mumbai</td>\n",
              "      <td>No</td>\n",
              "    </tr>\n",
              "  </tbody>\n",
              "</table>\n",
              "</div>\n",
              "      <button class=\"colab-df-convert\" onclick=\"convertToInteractive('df-44a6db50-d05b-4bfe-94e3-dd1d2c2bfc93')\"\n",
              "              title=\"Convert this dataframe to an interactive table.\"\n",
              "              style=\"display:none;\">\n",
              "        \n",
              "  <svg xmlns=\"http://www.w3.org/2000/svg\" height=\"24px\"viewBox=\"0 0 24 24\"\n",
              "       width=\"24px\">\n",
              "    <path d=\"M0 0h24v24H0V0z\" fill=\"none\"/>\n",
              "    <path d=\"M18.56 5.44l.94 2.06.94-2.06 2.06-.94-2.06-.94-.94-2.06-.94 2.06-2.06.94zm-11 1L8.5 8.5l.94-2.06 2.06-.94-2.06-.94L8.5 2.5l-.94 2.06-2.06.94zm10 10l.94 2.06.94-2.06 2.06-.94-2.06-.94-.94-2.06-.94 2.06-2.06.94z\"/><path d=\"M17.41 7.96l-1.37-1.37c-.4-.4-.92-.59-1.43-.59-.52 0-1.04.2-1.43.59L10.3 9.45l-7.72 7.72c-.78.78-.78 2.05 0 2.83L4 21.41c.39.39.9.59 1.41.59.51 0 1.02-.2 1.41-.59l7.78-7.78 2.81-2.81c.8-.78.8-2.07 0-2.86zM5.41 20L4 18.59l7.72-7.72 1.47 1.35L5.41 20z\"/>\n",
              "  </svg>\n",
              "      </button>\n",
              "      \n",
              "  <style>\n",
              "    .colab-df-container {\n",
              "      display:flex;\n",
              "      flex-wrap:wrap;\n",
              "      gap: 12px;\n",
              "    }\n",
              "\n",
              "    .colab-df-convert {\n",
              "      background-color: #E8F0FE;\n",
              "      border: none;\n",
              "      border-radius: 50%;\n",
              "      cursor: pointer;\n",
              "      display: none;\n",
              "      fill: #1967D2;\n",
              "      height: 32px;\n",
              "      padding: 0 0 0 0;\n",
              "      width: 32px;\n",
              "    }\n",
              "\n",
              "    .colab-df-convert:hover {\n",
              "      background-color: #E2EBFA;\n",
              "      box-shadow: 0px 1px 2px rgba(60, 64, 67, 0.3), 0px 1px 3px 1px rgba(60, 64, 67, 0.15);\n",
              "      fill: #174EA6;\n",
              "    }\n",
              "\n",
              "    [theme=dark] .colab-df-convert {\n",
              "      background-color: #3B4455;\n",
              "      fill: #D2E3FC;\n",
              "    }\n",
              "\n",
              "    [theme=dark] .colab-df-convert:hover {\n",
              "      background-color: #434B5C;\n",
              "      box-shadow: 0px 1px 3px 1px rgba(0, 0, 0, 0.15);\n",
              "      filter: drop-shadow(0px 1px 2px rgba(0, 0, 0, 0.3));\n",
              "      fill: #FFFFFF;\n",
              "    }\n",
              "  </style>\n",
              "\n",
              "      <script>\n",
              "        const buttonEl =\n",
              "          document.querySelector('#df-44a6db50-d05b-4bfe-94e3-dd1d2c2bfc93 button.colab-df-convert');\n",
              "        buttonEl.style.display =\n",
              "          google.colab.kernel.accessAllowed ? 'block' : 'none';\n",
              "\n",
              "        async function convertToInteractive(key) {\n",
              "          const element = document.querySelector('#df-44a6db50-d05b-4bfe-94e3-dd1d2c2bfc93');\n",
              "          const dataTable =\n",
              "            await google.colab.kernel.invokeFunction('convertToInteractive',\n",
              "                                                     [key], {});\n",
              "          if (!dataTable) return;\n",
              "\n",
              "          const docLinkHtml = 'Like what you see? Visit the ' +\n",
              "            '<a target=\"_blank\" href=https://colab.research.google.com/notebooks/data_table.ipynb>data table notebook</a>'\n",
              "            + ' to learn more about interactive tables.';\n",
              "          element.innerHTML = '';\n",
              "          dataTable['output_type'] = 'display_data';\n",
              "          await google.colab.output.renderOutput(dataTable, element);\n",
              "          const docLink = document.createElement('div');\n",
              "          docLink.innerHTML = docLinkHtml;\n",
              "          element.appendChild(docLink);\n",
              "        }\n",
              "      </script>\n",
              "    </div>\n",
              "  </div>\n",
              "  "
            ]
          },
          "metadata": {},
          "execution_count": 4
        }
      ]
    },
    {
      "cell_type": "code",
      "source": [
        "df['cough'].value_counts()"
      ],
      "metadata": {
        "colab": {
          "base_uri": "https://localhost:8080/"
        },
        "id": "5pmf4BlYqzHI",
        "outputId": "ce83f030-4f80-4f09-eb0d-27b669889b86"
      },
      "execution_count": null,
      "outputs": [
        {
          "output_type": "execute_result",
          "data": {
            "text/plain": [
              "Mild      62\n",
              "Strong    38\n",
              "Name: cough, dtype: int64"
            ]
          },
          "metadata": {},
          "execution_count": 5
        }
      ]
    },
    {
      "cell_type": "code",
      "source": [
        "df['fever'].value_counts"
      ],
      "metadata": {
        "colab": {
          "base_uri": "https://localhost:8080/"
        },
        "id": "irflO2lcq9nS",
        "outputId": "8713a0df-b33d-4df2-cb80-14f0de0d1237"
      },
      "execution_count": null,
      "outputs": [
        {
          "output_type": "execute_result",
          "data": {
            "text/plain": [
              "<bound method IndexOpsMixin.value_counts of 0     103.0\n",
              "1     100.0\n",
              "2     101.0\n",
              "3      98.0\n",
              "4     101.0\n",
              "      ...  \n",
              "95    104.0\n",
              "96    101.0\n",
              "97    101.0\n",
              "98     98.0\n",
              "99     98.0\n",
              "Name: fever, Length: 100, dtype: float64>"
            ]
          },
          "metadata": {},
          "execution_count": 8
        }
      ]
    },
    {
      "cell_type": "code",
      "source": [
        "df.isnull().sum()"
      ],
      "metadata": {
        "colab": {
          "base_uri": "https://localhost:8080/"
        },
        "id": "sIPxGcgerFg3",
        "outputId": "414a5d9c-ee04-4755-8066-6f1cfee4a746"
      },
      "execution_count": null,
      "outputs": [
        {
          "output_type": "execute_result",
          "data": {
            "text/plain": [
              "age           0\n",
              "gender        0\n",
              "fever        10\n",
              "cough         0\n",
              "city          0\n",
              "has_covid     0\n",
              "dtype: int64"
            ]
          },
          "metadata": {},
          "execution_count": 9
        }
      ]
    },
    {
      "cell_type": "code",
      "source": [
        "from sklearn.model_selection import train_test_split\n",
        "X_train,X_test,y_train,y_test = train_test_split(df.drop(columns=['has_covid']),df['has_covid'],test_size=0.2)"
      ],
      "metadata": {
        "id": "ZaVH6jL3rNmZ"
      },
      "execution_count": null,
      "outputs": []
    },
    {
      "cell_type": "code",
      "source": [
        "X_train"
      ],
      "metadata": {
        "colab": {
          "base_uri": "https://localhost:8080/",
          "height": 423
        },
        "id": "n2irIBiksK89",
        "outputId": "4e881d30-34ca-4639-9036-33470b89b948"
      },
      "execution_count": null,
      "outputs": [
        {
          "output_type": "execute_result",
          "data": {
            "text/plain": [
              "    age  gender  fever   cough       city\n",
              "71   75  Female  104.0  Strong      Delhi\n",
              "59    6  Female  104.0    Mild    Kolkata\n",
              "81   65    Male   99.0    Mild      Delhi\n",
              "84   69  Female   98.0  Strong     Mumbai\n",
              "44   20    Male  102.0  Strong      Delhi\n",
              "..  ...     ...    ...     ...        ...\n",
              "70   68  Female  101.0  Strong      Delhi\n",
              "53   83    Male   98.0    Mild      Delhi\n",
              "17   40  Female   98.0  Strong      Delhi\n",
              "5    84  Female    NaN    Mild  Bangalore\n",
              "10   75  Female    NaN    Mild      Delhi\n",
              "\n",
              "[80 rows x 5 columns]"
            ],
            "text/html": [
              "\n",
              "  <div id=\"df-9efdfa50-48f5-44f4-bafe-9e5fc424a56c\">\n",
              "    <div class=\"colab-df-container\">\n",
              "      <div>\n",
              "<style scoped>\n",
              "    .dataframe tbody tr th:only-of-type {\n",
              "        vertical-align: middle;\n",
              "    }\n",
              "\n",
              "    .dataframe tbody tr th {\n",
              "        vertical-align: top;\n",
              "    }\n",
              "\n",
              "    .dataframe thead th {\n",
              "        text-align: right;\n",
              "    }\n",
              "</style>\n",
              "<table border=\"1\" class=\"dataframe\">\n",
              "  <thead>\n",
              "    <tr style=\"text-align: right;\">\n",
              "      <th></th>\n",
              "      <th>age</th>\n",
              "      <th>gender</th>\n",
              "      <th>fever</th>\n",
              "      <th>cough</th>\n",
              "      <th>city</th>\n",
              "    </tr>\n",
              "  </thead>\n",
              "  <tbody>\n",
              "    <tr>\n",
              "      <th>71</th>\n",
              "      <td>75</td>\n",
              "      <td>Female</td>\n",
              "      <td>104.0</td>\n",
              "      <td>Strong</td>\n",
              "      <td>Delhi</td>\n",
              "    </tr>\n",
              "    <tr>\n",
              "      <th>59</th>\n",
              "      <td>6</td>\n",
              "      <td>Female</td>\n",
              "      <td>104.0</td>\n",
              "      <td>Mild</td>\n",
              "      <td>Kolkata</td>\n",
              "    </tr>\n",
              "    <tr>\n",
              "      <th>81</th>\n",
              "      <td>65</td>\n",
              "      <td>Male</td>\n",
              "      <td>99.0</td>\n",
              "      <td>Mild</td>\n",
              "      <td>Delhi</td>\n",
              "    </tr>\n",
              "    <tr>\n",
              "      <th>84</th>\n",
              "      <td>69</td>\n",
              "      <td>Female</td>\n",
              "      <td>98.0</td>\n",
              "      <td>Strong</td>\n",
              "      <td>Mumbai</td>\n",
              "    </tr>\n",
              "    <tr>\n",
              "      <th>44</th>\n",
              "      <td>20</td>\n",
              "      <td>Male</td>\n",
              "      <td>102.0</td>\n",
              "      <td>Strong</td>\n",
              "      <td>Delhi</td>\n",
              "    </tr>\n",
              "    <tr>\n",
              "      <th>...</th>\n",
              "      <td>...</td>\n",
              "      <td>...</td>\n",
              "      <td>...</td>\n",
              "      <td>...</td>\n",
              "      <td>...</td>\n",
              "    </tr>\n",
              "    <tr>\n",
              "      <th>70</th>\n",
              "      <td>68</td>\n",
              "      <td>Female</td>\n",
              "      <td>101.0</td>\n",
              "      <td>Strong</td>\n",
              "      <td>Delhi</td>\n",
              "    </tr>\n",
              "    <tr>\n",
              "      <th>53</th>\n",
              "      <td>83</td>\n",
              "      <td>Male</td>\n",
              "      <td>98.0</td>\n",
              "      <td>Mild</td>\n",
              "      <td>Delhi</td>\n",
              "    </tr>\n",
              "    <tr>\n",
              "      <th>17</th>\n",
              "      <td>40</td>\n",
              "      <td>Female</td>\n",
              "      <td>98.0</td>\n",
              "      <td>Strong</td>\n",
              "      <td>Delhi</td>\n",
              "    </tr>\n",
              "    <tr>\n",
              "      <th>5</th>\n",
              "      <td>84</td>\n",
              "      <td>Female</td>\n",
              "      <td>NaN</td>\n",
              "      <td>Mild</td>\n",
              "      <td>Bangalore</td>\n",
              "    </tr>\n",
              "    <tr>\n",
              "      <th>10</th>\n",
              "      <td>75</td>\n",
              "      <td>Female</td>\n",
              "      <td>NaN</td>\n",
              "      <td>Mild</td>\n",
              "      <td>Delhi</td>\n",
              "    </tr>\n",
              "  </tbody>\n",
              "</table>\n",
              "<p>80 rows × 5 columns</p>\n",
              "</div>\n",
              "      <button class=\"colab-df-convert\" onclick=\"convertToInteractive('df-9efdfa50-48f5-44f4-bafe-9e5fc424a56c')\"\n",
              "              title=\"Convert this dataframe to an interactive table.\"\n",
              "              style=\"display:none;\">\n",
              "        \n",
              "  <svg xmlns=\"http://www.w3.org/2000/svg\" height=\"24px\"viewBox=\"0 0 24 24\"\n",
              "       width=\"24px\">\n",
              "    <path d=\"M0 0h24v24H0V0z\" fill=\"none\"/>\n",
              "    <path d=\"M18.56 5.44l.94 2.06.94-2.06 2.06-.94-2.06-.94-.94-2.06-.94 2.06-2.06.94zm-11 1L8.5 8.5l.94-2.06 2.06-.94-2.06-.94L8.5 2.5l-.94 2.06-2.06.94zm10 10l.94 2.06.94-2.06 2.06-.94-2.06-.94-.94-2.06-.94 2.06-2.06.94z\"/><path d=\"M17.41 7.96l-1.37-1.37c-.4-.4-.92-.59-1.43-.59-.52 0-1.04.2-1.43.59L10.3 9.45l-7.72 7.72c-.78.78-.78 2.05 0 2.83L4 21.41c.39.39.9.59 1.41.59.51 0 1.02-.2 1.41-.59l7.78-7.78 2.81-2.81c.8-.78.8-2.07 0-2.86zM5.41 20L4 18.59l7.72-7.72 1.47 1.35L5.41 20z\"/>\n",
              "  </svg>\n",
              "      </button>\n",
              "      \n",
              "  <style>\n",
              "    .colab-df-container {\n",
              "      display:flex;\n",
              "      flex-wrap:wrap;\n",
              "      gap: 12px;\n",
              "    }\n",
              "\n",
              "    .colab-df-convert {\n",
              "      background-color: #E8F0FE;\n",
              "      border: none;\n",
              "      border-radius: 50%;\n",
              "      cursor: pointer;\n",
              "      display: none;\n",
              "      fill: #1967D2;\n",
              "      height: 32px;\n",
              "      padding: 0 0 0 0;\n",
              "      width: 32px;\n",
              "    }\n",
              "\n",
              "    .colab-df-convert:hover {\n",
              "      background-color: #E2EBFA;\n",
              "      box-shadow: 0px 1px 2px rgba(60, 64, 67, 0.3), 0px 1px 3px 1px rgba(60, 64, 67, 0.15);\n",
              "      fill: #174EA6;\n",
              "    }\n",
              "\n",
              "    [theme=dark] .colab-df-convert {\n",
              "      background-color: #3B4455;\n",
              "      fill: #D2E3FC;\n",
              "    }\n",
              "\n",
              "    [theme=dark] .colab-df-convert:hover {\n",
              "      background-color: #434B5C;\n",
              "      box-shadow: 0px 1px 3px 1px rgba(0, 0, 0, 0.15);\n",
              "      filter: drop-shadow(0px 1px 2px rgba(0, 0, 0, 0.3));\n",
              "      fill: #FFFFFF;\n",
              "    }\n",
              "  </style>\n",
              "\n",
              "      <script>\n",
              "        const buttonEl =\n",
              "          document.querySelector('#df-9efdfa50-48f5-44f4-bafe-9e5fc424a56c button.colab-df-convert');\n",
              "        buttonEl.style.display =\n",
              "          google.colab.kernel.accessAllowed ? 'block' : 'none';\n",
              "\n",
              "        async function convertToInteractive(key) {\n",
              "          const element = document.querySelector('#df-9efdfa50-48f5-44f4-bafe-9e5fc424a56c');\n",
              "          const dataTable =\n",
              "            await google.colab.kernel.invokeFunction('convertToInteractive',\n",
              "                                                     [key], {});\n",
              "          if (!dataTable) return;\n",
              "\n",
              "          const docLinkHtml = 'Like what you see? Visit the ' +\n",
              "            '<a target=\"_blank\" href=https://colab.research.google.com/notebooks/data_table.ipynb>data table notebook</a>'\n",
              "            + ' to learn more about interactive tables.';\n",
              "          element.innerHTML = '';\n",
              "          dataTable['output_type'] = 'display_data';\n",
              "          await google.colab.output.renderOutput(dataTable, element);\n",
              "          const docLink = document.createElement('div');\n",
              "          docLink.innerHTML = docLinkHtml;\n",
              "          element.appendChild(docLink);\n",
              "        }\n",
              "      </script>\n",
              "    </div>\n",
              "  </div>\n",
              "  "
            ]
          },
          "metadata": {},
          "execution_count": 12
        }
      ]
    },
    {
      "cell_type": "code",
      "source": [
        "#Adding simple imputer to fill fever null values\n",
        "si = SimpleImputer()"
      ],
      "metadata": {
        "id": "6NDuBixesVUr"
      },
      "execution_count": null,
      "outputs": []
    },
    {
      "cell_type": "code",
      "source": [
        "X_train_fever = si.fit_transform(X_train[['fever']])"
      ],
      "metadata": {
        "id": "2MjLQhmOsui0"
      },
      "execution_count": null,
      "outputs": []
    },
    {
      "cell_type": "code",
      "source": [
        "X_test_fever = si.fit_transform(X_test[['fever']])\n",
        "X_train_fever.shape"
      ],
      "metadata": {
        "colab": {
          "base_uri": "https://localhost:8080/"
        },
        "id": "LKlXpbV0s_rC",
        "outputId": "0f916bfa-142e-4a5a-bd78-b391b12e60a8"
      },
      "execution_count": null,
      "outputs": [
        {
          "output_type": "execute_result",
          "data": {
            "text/plain": [
              "(80, 1)"
            ]
          },
          "metadata": {},
          "execution_count": 15
        }
      ]
    },
    {
      "cell_type": "code",
      "source": [
        "oe = OrdinalEncoder(categories=[['Mild','Strong']])\n",
        "X_train_cough = oe.fit_transform(X_train[['cough']])\n",
        "\n",
        "# also the test data\n",
        "X_test_cough = oe.fit_transform(X_test[['cough']])\n",
        "\n",
        "X_train_cough.shape\n",
        "\n",
        "# OneHotEncoding -> gender,city\n",
        "ohe = OneHotEncoder(drop='first',sparse=False)\n",
        "X_train_gender_city = ohe.fit_transform(X_train[['gender','city']])\n",
        "\n",
        "# also the test data\n",
        "X_test_gender_city = ohe.fit_transform(X_test[['gender','city']])\n",
        "\n",
        "X_train_gender_city.shape\n"
      ],
      "metadata": {
        "colab": {
          "base_uri": "https://localhost:8080/"
        },
        "id": "pvuNs8PhtS_K",
        "outputId": "91cfb4d1-90f4-4c0a-89f6-b42751c79134"
      },
      "execution_count": null,
      "outputs": [
        {
          "output_type": "stream",
          "name": "stderr",
          "text": [
            "/usr/local/lib/python3.9/dist-packages/sklearn/preprocessing/_encoders.py:868: FutureWarning: `sparse` was renamed to `sparse_output` in version 1.2 and will be removed in 1.4. `sparse_output` is ignored unless you leave `sparse` to its default value.\n",
            "  warnings.warn(\n",
            "/usr/local/lib/python3.9/dist-packages/sklearn/preprocessing/_encoders.py:868: FutureWarning: `sparse` was renamed to `sparse_output` in version 1.2 and will be removed in 1.4. `sparse_output` is ignored unless you leave `sparse` to its default value.\n",
            "  warnings.warn(\n"
          ]
        },
        {
          "output_type": "execute_result",
          "data": {
            "text/plain": [
              "(80, 4)"
            ]
          },
          "metadata": {},
          "execution_count": 17
        }
      ]
    },
    {
      "cell_type": "code",
      "source": [
        "# Extracting Age\n",
        "X_train_age = X_train.drop(columns=['gender','fever','cough','city']).values\n",
        "\n",
        "# also the test data\n",
        "X_test_age = X_test.drop(columns=['gender','fever','cough','city']).values\n",
        "\n",
        "X_train_age.shape"
      ],
      "metadata": {
        "colab": {
          "base_uri": "https://localhost:8080/"
        },
        "id": "Fw3zwNdquVX2",
        "outputId": "9e59d34b-2a70-44e3-a952-0f37cf1c35fd"
      },
      "execution_count": null,
      "outputs": [
        {
          "output_type": "execute_result",
          "data": {
            "text/plain": [
              "(80, 1)"
            ]
          },
          "metadata": {},
          "execution_count": 18
        }
      ]
    },
    {
      "cell_type": "code",
      "source": [
        "X_train_transformed = np.concatenate((X_train_age,X_train_fever,X_train_gender_city,X_train_cough),axis=1)\n",
        "# also the test data\n",
        "X_test_transformed = np.concatenate((X_test_age,X_test_fever,X_test_gender_city,X_test_cough),axis=1)\n",
        "\n",
        "X_train_transformed"
      ],
      "metadata": {
        "colab": {
          "base_uri": "https://localhost:8080/"
        },
        "id": "ra_h7_rUutVn",
        "outputId": "654a8646-4562-4203-8c64-44ea27fd859a"
      },
      "execution_count": null,
      "outputs": [
        {
          "output_type": "execute_result",
          "data": {
            "text/plain": [
              "array([[ 75.        , 104.        ,   0.        ,   1.        ,\n",
              "          0.        ,   0.        ,   1.        ],\n",
              "       [  6.        , 104.        ,   0.        ,   0.        ,\n",
              "          1.        ,   0.        ,   0.        ],\n",
              "       [ 65.        ,  99.        ,   1.        ,   1.        ,\n",
              "          0.        ,   0.        ,   0.        ],\n",
              "       [ 69.        ,  98.        ,   0.        ,   0.        ,\n",
              "          0.        ,   1.        ,   1.        ],\n",
              "       [ 20.        , 102.        ,   1.        ,   1.        ,\n",
              "          0.        ,   0.        ,   1.        ],\n",
              "       [ 23.        , 100.66197183,   1.        ,   0.        ,\n",
              "          0.        ,   1.        ,   0.        ],\n",
              "       [ 23.        ,  98.        ,   1.        ,   0.        ,\n",
              "          0.        ,   1.        ,   1.        ],\n",
              "       [ 26.        ,  98.        ,   0.        ,   0.        ,\n",
              "          1.        ,   0.        ,   0.        ],\n",
              "       [ 64.        , 102.        ,   1.        ,   0.        ,\n",
              "          0.        ,   0.        ,   0.        ],\n",
              "       [ 49.        , 102.        ,   0.        ,   1.        ,\n",
              "          0.        ,   0.        ,   0.        ],\n",
              "       [ 42.        , 104.        ,   1.        ,   0.        ,\n",
              "          0.        ,   1.        ,   0.        ],\n",
              "       [  5.        ,  98.        ,   0.        ,   0.        ,\n",
              "          0.        ,   1.        ,   1.        ],\n",
              "       [ 27.        , 100.        ,   1.        ,   0.        ,\n",
              "          1.        ,   0.        ,   0.        ],\n",
              "       [ 34.        , 101.        ,   0.        ,   1.        ,\n",
              "          0.        ,   0.        ,   1.        ],\n",
              "       [ 55.        , 100.        ,   1.        ,   0.        ,\n",
              "          1.        ,   0.        ,   0.        ],\n",
              "       [ 11.        , 100.        ,   0.        ,   0.        ,\n",
              "          1.        ,   0.        ,   1.        ],\n",
              "       [ 65.        , 101.        ,   0.        ,   0.        ,\n",
              "          0.        ,   1.        ,   0.        ],\n",
              "       [ 13.        , 100.        ,   0.        ,   0.        ,\n",
              "          1.        ,   0.        ,   1.        ],\n",
              "       [ 81.        , 101.        ,   0.        ,   0.        ,\n",
              "          0.        ,   1.        ,   0.        ],\n",
              "       [ 11.        , 100.        ,   1.        ,   0.        ,\n",
              "          0.        ,   0.        ,   0.        ],\n",
              "       [ 48.        , 103.        ,   0.        ,   0.        ,\n",
              "          1.        ,   0.        ,   0.        ],\n",
              "       [ 69.        , 102.        ,   0.        ,   0.        ,\n",
              "          0.        ,   0.        ,   0.        ],\n",
              "       [ 79.        , 100.66197183,   1.        ,   0.        ,\n",
              "          1.        ,   0.        ,   1.        ],\n",
              "       [ 25.        , 104.        ,   1.        ,   0.        ,\n",
              "          0.        ,   0.        ,   0.        ],\n",
              "       [ 74.        , 102.        ,   1.        ,   0.        ,\n",
              "          0.        ,   1.        ,   0.        ],\n",
              "       [ 14.        ,  99.        ,   0.        ,   0.        ,\n",
              "          0.        ,   1.        ,   0.        ],\n",
              "       [ 51.        , 104.        ,   1.        ,   0.        ,\n",
              "          1.        ,   0.        ,   0.        ],\n",
              "       [ 16.        , 103.        ,   0.        ,   0.        ,\n",
              "          0.        ,   0.        ,   0.        ],\n",
              "       [  8.        , 101.        ,   0.        ,   0.        ,\n",
              "          1.        ,   0.        ,   0.        ],\n",
              "       [ 71.        , 100.66197183,   1.        ,   0.        ,\n",
              "          1.        ,   0.        ,   1.        ],\n",
              "       [ 20.        , 101.        ,   0.        ,   0.        ,\n",
              "          0.        ,   0.        ,   0.        ],\n",
              "       [ 10.        , 100.        ,   1.        ,   0.        ,\n",
              "          0.        ,   0.        ,   0.        ],\n",
              "       [ 20.        , 100.66197183,   0.        ,   0.        ,\n",
              "          0.        ,   1.        ,   1.        ],\n",
              "       [ 31.        ,  98.        ,   0.        ,   0.        ,\n",
              "          1.        ,   0.        ,   0.        ],\n",
              "       [ 22.        ,  99.        ,   0.        ,   0.        ,\n",
              "          0.        ,   0.        ,   0.        ],\n",
              "       [ 25.        ,  99.        ,   0.        ,   0.        ,\n",
              "          1.        ,   0.        ,   1.        ],\n",
              "       [ 18.        , 104.        ,   0.        ,   0.        ,\n",
              "          0.        ,   0.        ,   0.        ],\n",
              "       [ 14.        , 101.        ,   1.        ,   0.        ,\n",
              "          0.        ,   0.        ,   1.        ],\n",
              "       [ 12.        ,  98.        ,   1.        ,   0.        ,\n",
              "          0.        ,   0.        ,   1.        ],\n",
              "       [ 27.        , 100.        ,   1.        ,   1.        ,\n",
              "          0.        ,   0.        ,   0.        ],\n",
              "       [ 73.        ,  98.        ,   1.        ,   0.        ,\n",
              "          0.        ,   0.        ,   0.        ],\n",
              "       [ 34.        ,  98.        ,   1.        ,   0.        ,\n",
              "          1.        ,   0.        ,   1.        ],\n",
              "       [ 81.        ,  98.        ,   0.        ,   0.        ,\n",
              "          0.        ,   1.        ,   1.        ],\n",
              "       [ 17.        , 104.        ,   0.        ,   0.        ,\n",
              "          1.        ,   0.        ,   0.        ],\n",
              "       [ 60.        ,  99.        ,   0.        ,   0.        ,\n",
              "          0.        ,   1.        ,   0.        ],\n",
              "       [ 49.        ,  99.        ,   0.        ,   0.        ,\n",
              "          0.        ,   0.        ,   1.        ],\n",
              "       [ 83.        , 103.        ,   1.        ,   0.        ,\n",
              "          1.        ,   0.        ,   0.        ],\n",
              "       [ 34.        , 104.        ,   0.        ,   1.        ,\n",
              "          0.        ,   0.        ,   1.        ],\n",
              "       [ 71.        ,  98.        ,   0.        ,   0.        ,\n",
              "          1.        ,   0.        ,   1.        ],\n",
              "       [ 19.        , 100.        ,   0.        ,   0.        ,\n",
              "          0.        ,   0.        ,   1.        ],\n",
              "       [ 66.        ,  99.        ,   1.        ,   0.        ,\n",
              "          0.        ,   0.        ,   1.        ],\n",
              "       [ 51.        , 101.        ,   0.        ,   0.        ,\n",
              "          1.        ,   0.        ,   1.        ],\n",
              "       [ 64.        , 101.        ,   0.        ,   1.        ,\n",
              "          0.        ,   0.        ,   0.        ],\n",
              "       [ 16.        , 104.        ,   1.        ,   0.        ,\n",
              "          1.        ,   0.        ,   0.        ],\n",
              "       [ 38.        , 101.        ,   0.        ,   0.        ,\n",
              "          0.        ,   0.        ,   0.        ],\n",
              "       [ 72.        ,  99.        ,   1.        ,   0.        ,\n",
              "          0.        ,   0.        ,   0.        ],\n",
              "       [ 42.        , 101.        ,   1.        ,   1.        ,\n",
              "          0.        ,   0.        ,   0.        ],\n",
              "       [ 10.        ,  98.        ,   0.        ,   0.        ,\n",
              "          1.        ,   0.        ,   1.        ],\n",
              "       [ 80.        ,  98.        ,   0.        ,   1.        ,\n",
              "          0.        ,   0.        ,   0.        ],\n",
              "       [ 19.        , 101.        ,   0.        ,   0.        ,\n",
              "          0.        ,   1.        ,   0.        ],\n",
              "       [ 59.        ,  99.        ,   0.        ,   1.        ,\n",
              "          0.        ,   0.        ,   1.        ],\n",
              "       [  5.        , 102.        ,   1.        ,   0.        ,\n",
              "          1.        ,   0.        ,   0.        ],\n",
              "       [ 54.        , 104.        ,   0.        ,   0.        ,\n",
              "          1.        ,   0.        ,   1.        ],\n",
              "       [ 60.        , 103.        ,   1.        ,   0.        ,\n",
              "          1.        ,   0.        ,   0.        ],\n",
              "       [ 64.        ,  98.        ,   0.        ,   0.        ,\n",
              "          0.        ,   0.        ,   0.        ],\n",
              "       [ 42.        , 100.66197183,   0.        ,   0.        ,\n",
              "          0.        ,   0.        ,   1.        ],\n",
              "       [ 49.        , 101.        ,   0.        ,   1.        ,\n",
              "          0.        ,   0.        ,   0.        ],\n",
              "       [ 33.        , 102.        ,   0.        ,   1.        ,\n",
              "          0.        ,   0.        ,   1.        ],\n",
              "       [ 27.        , 100.        ,   1.        ,   1.        ,\n",
              "          0.        ,   0.        ,   0.        ],\n",
              "       [ 24.        , 102.        ,   0.        ,   0.        ,\n",
              "          0.        ,   0.        ,   1.        ],\n",
              "       [ 47.        , 101.        ,   1.        ,   0.        ,\n",
              "          0.        ,   0.        ,   1.        ],\n",
              "       [ 82.        , 100.66197183,   1.        ,   0.        ,\n",
              "          1.        ,   0.        ,   0.        ],\n",
              "       [ 70.        , 103.        ,   1.        ,   0.        ,\n",
              "          1.        ,   0.        ,   1.        ],\n",
              "       [ 34.        , 100.66197183,   0.        ,   0.        ,\n",
              "          0.        ,   1.        ,   1.        ],\n",
              "       [ 83.        , 101.        ,   0.        ,   0.        ,\n",
              "          1.        ,   0.        ,   0.        ],\n",
              "       [ 68.        , 101.        ,   0.        ,   1.        ,\n",
              "          0.        ,   0.        ,   1.        ],\n",
              "       [ 83.        ,  98.        ,   1.        ,   1.        ,\n",
              "          0.        ,   0.        ,   0.        ],\n",
              "       [ 40.        ,  98.        ,   0.        ,   1.        ,\n",
              "          0.        ,   0.        ,   1.        ],\n",
              "       [ 84.        , 100.66197183,   0.        ,   0.        ,\n",
              "          0.        ,   0.        ,   0.        ],\n",
              "       [ 75.        , 100.66197183,   0.        ,   1.        ,\n",
              "          0.        ,   0.        ,   0.        ]])"
            ]
          },
          "metadata": {},
          "execution_count": 20
        }
      ]
    },
    {
      "cell_type": "code",
      "source": [
        "#with column transformer\n",
        "from sklearn.compose import ColumnTransformer\n",
        "transformer = ColumnTransformer(transformers = [('tnf1',SimpleImputer(),['fever']),('tnf2',OrdinalEncoder(categories=[['Mild','Strong']]),['cough']),('tnf3',OneHotEncoder(sparse=False,drop='first'),['gender','city'])\n",
        "],remainder='passthrough')"
      ],
      "metadata": {
        "id": "3Zr3wXGpu752"
      },
      "execution_count": null,
      "outputs": []
    },
    {
      "cell_type": "code",
      "source": [
        "transformer.fit_transform(X_train)"
      ],
      "metadata": {
        "colab": {
          "base_uri": "https://localhost:8080/"
        },
        "id": "dMMOEsg_wiZb",
        "outputId": "6c658ff7-fa4e-4137-e4f5-c1ede6d1c833"
      },
      "execution_count": null,
      "outputs": [
        {
          "output_type": "stream",
          "name": "stderr",
          "text": [
            "/usr/local/lib/python3.9/dist-packages/sklearn/preprocessing/_encoders.py:868: FutureWarning: `sparse` was renamed to `sparse_output` in version 1.2 and will be removed in 1.4. `sparse_output` is ignored unless you leave `sparse` to its default value.\n",
            "  warnings.warn(\n"
          ]
        },
        {
          "output_type": "execute_result",
          "data": {
            "text/plain": [
              "array([[104.        ,   1.        ,   0.        ,   1.        ,\n",
              "          0.        ,   0.        ,  75.        ],\n",
              "       [104.        ,   0.        ,   0.        ,   0.        ,\n",
              "          1.        ,   0.        ,   6.        ],\n",
              "       [ 99.        ,   0.        ,   1.        ,   1.        ,\n",
              "          0.        ,   0.        ,  65.        ],\n",
              "       [ 98.        ,   1.        ,   0.        ,   0.        ,\n",
              "          0.        ,   1.        ,  69.        ],\n",
              "       [102.        ,   1.        ,   1.        ,   1.        ,\n",
              "          0.        ,   0.        ,  20.        ],\n",
              "       [100.66197183,   0.        ,   1.        ,   0.        ,\n",
              "          0.        ,   1.        ,  23.        ],\n",
              "       [ 98.        ,   1.        ,   1.        ,   0.        ,\n",
              "          0.        ,   1.        ,  23.        ],\n",
              "       [ 98.        ,   0.        ,   0.        ,   0.        ,\n",
              "          1.        ,   0.        ,  26.        ],\n",
              "       [102.        ,   0.        ,   1.        ,   0.        ,\n",
              "          0.        ,   0.        ,  64.        ],\n",
              "       [102.        ,   0.        ,   0.        ,   1.        ,\n",
              "          0.        ,   0.        ,  49.        ],\n",
              "       [104.        ,   0.        ,   1.        ,   0.        ,\n",
              "          0.        ,   1.        ,  42.        ],\n",
              "       [ 98.        ,   1.        ,   0.        ,   0.        ,\n",
              "          0.        ,   1.        ,   5.        ],\n",
              "       [100.        ,   0.        ,   1.        ,   0.        ,\n",
              "          1.        ,   0.        ,  27.        ],\n",
              "       [101.        ,   1.        ,   0.        ,   1.        ,\n",
              "          0.        ,   0.        ,  34.        ],\n",
              "       [100.        ,   0.        ,   1.        ,   0.        ,\n",
              "          1.        ,   0.        ,  55.        ],\n",
              "       [100.        ,   1.        ,   0.        ,   0.        ,\n",
              "          1.        ,   0.        ,  11.        ],\n",
              "       [101.        ,   0.        ,   0.        ,   0.        ,\n",
              "          0.        ,   1.        ,  65.        ],\n",
              "       [100.        ,   1.        ,   0.        ,   0.        ,\n",
              "          1.        ,   0.        ,  13.        ],\n",
              "       [101.        ,   0.        ,   0.        ,   0.        ,\n",
              "          0.        ,   1.        ,  81.        ],\n",
              "       [100.        ,   0.        ,   1.        ,   0.        ,\n",
              "          0.        ,   0.        ,  11.        ],\n",
              "       [103.        ,   0.        ,   0.        ,   0.        ,\n",
              "          1.        ,   0.        ,  48.        ],\n",
              "       [102.        ,   0.        ,   0.        ,   0.        ,\n",
              "          0.        ,   0.        ,  69.        ],\n",
              "       [100.66197183,   1.        ,   1.        ,   0.        ,\n",
              "          1.        ,   0.        ,  79.        ],\n",
              "       [104.        ,   0.        ,   1.        ,   0.        ,\n",
              "          0.        ,   0.        ,  25.        ],\n",
              "       [102.        ,   0.        ,   1.        ,   0.        ,\n",
              "          0.        ,   1.        ,  74.        ],\n",
              "       [ 99.        ,   0.        ,   0.        ,   0.        ,\n",
              "          0.        ,   1.        ,  14.        ],\n",
              "       [104.        ,   0.        ,   1.        ,   0.        ,\n",
              "          1.        ,   0.        ,  51.        ],\n",
              "       [103.        ,   0.        ,   0.        ,   0.        ,\n",
              "          0.        ,   0.        ,  16.        ],\n",
              "       [101.        ,   0.        ,   0.        ,   0.        ,\n",
              "          1.        ,   0.        ,   8.        ],\n",
              "       [100.66197183,   1.        ,   1.        ,   0.        ,\n",
              "          1.        ,   0.        ,  71.        ],\n",
              "       [101.        ,   0.        ,   0.        ,   0.        ,\n",
              "          0.        ,   0.        ,  20.        ],\n",
              "       [100.        ,   0.        ,   1.        ,   0.        ,\n",
              "          0.        ,   0.        ,  10.        ],\n",
              "       [100.66197183,   1.        ,   0.        ,   0.        ,\n",
              "          0.        ,   1.        ,  20.        ],\n",
              "       [ 98.        ,   0.        ,   0.        ,   0.        ,\n",
              "          1.        ,   0.        ,  31.        ],\n",
              "       [ 99.        ,   0.        ,   0.        ,   0.        ,\n",
              "          0.        ,   0.        ,  22.        ],\n",
              "       [ 99.        ,   1.        ,   0.        ,   0.        ,\n",
              "          1.        ,   0.        ,  25.        ],\n",
              "       [104.        ,   0.        ,   0.        ,   0.        ,\n",
              "          0.        ,   0.        ,  18.        ],\n",
              "       [101.        ,   1.        ,   1.        ,   0.        ,\n",
              "          0.        ,   0.        ,  14.        ],\n",
              "       [ 98.        ,   1.        ,   1.        ,   0.        ,\n",
              "          0.        ,   0.        ,  12.        ],\n",
              "       [100.        ,   0.        ,   1.        ,   1.        ,\n",
              "          0.        ,   0.        ,  27.        ],\n",
              "       [ 98.        ,   0.        ,   1.        ,   0.        ,\n",
              "          0.        ,   0.        ,  73.        ],\n",
              "       [ 98.        ,   1.        ,   1.        ,   0.        ,\n",
              "          1.        ,   0.        ,  34.        ],\n",
              "       [ 98.        ,   1.        ,   0.        ,   0.        ,\n",
              "          0.        ,   1.        ,  81.        ],\n",
              "       [104.        ,   0.        ,   0.        ,   0.        ,\n",
              "          1.        ,   0.        ,  17.        ],\n",
              "       [ 99.        ,   0.        ,   0.        ,   0.        ,\n",
              "          0.        ,   1.        ,  60.        ],\n",
              "       [ 99.        ,   1.        ,   0.        ,   0.        ,\n",
              "          0.        ,   0.        ,  49.        ],\n",
              "       [103.        ,   0.        ,   1.        ,   0.        ,\n",
              "          1.        ,   0.        ,  83.        ],\n",
              "       [104.        ,   1.        ,   0.        ,   1.        ,\n",
              "          0.        ,   0.        ,  34.        ],\n",
              "       [ 98.        ,   1.        ,   0.        ,   0.        ,\n",
              "          1.        ,   0.        ,  71.        ],\n",
              "       [100.        ,   1.        ,   0.        ,   0.        ,\n",
              "          0.        ,   0.        ,  19.        ],\n",
              "       [ 99.        ,   1.        ,   1.        ,   0.        ,\n",
              "          0.        ,   0.        ,  66.        ],\n",
              "       [101.        ,   1.        ,   0.        ,   0.        ,\n",
              "          1.        ,   0.        ,  51.        ],\n",
              "       [101.        ,   0.        ,   0.        ,   1.        ,\n",
              "          0.        ,   0.        ,  64.        ],\n",
              "       [104.        ,   0.        ,   1.        ,   0.        ,\n",
              "          1.        ,   0.        ,  16.        ],\n",
              "       [101.        ,   0.        ,   0.        ,   0.        ,\n",
              "          0.        ,   0.        ,  38.        ],\n",
              "       [ 99.        ,   0.        ,   1.        ,   0.        ,\n",
              "          0.        ,   0.        ,  72.        ],\n",
              "       [101.        ,   0.        ,   1.        ,   1.        ,\n",
              "          0.        ,   0.        ,  42.        ],\n",
              "       [ 98.        ,   1.        ,   0.        ,   0.        ,\n",
              "          1.        ,   0.        ,  10.        ],\n",
              "       [ 98.        ,   0.        ,   0.        ,   1.        ,\n",
              "          0.        ,   0.        ,  80.        ],\n",
              "       [101.        ,   0.        ,   0.        ,   0.        ,\n",
              "          0.        ,   1.        ,  19.        ],\n",
              "       [ 99.        ,   1.        ,   0.        ,   1.        ,\n",
              "          0.        ,   0.        ,  59.        ],\n",
              "       [102.        ,   0.        ,   1.        ,   0.        ,\n",
              "          1.        ,   0.        ,   5.        ],\n",
              "       [104.        ,   1.        ,   0.        ,   0.        ,\n",
              "          1.        ,   0.        ,  54.        ],\n",
              "       [103.        ,   0.        ,   1.        ,   0.        ,\n",
              "          1.        ,   0.        ,  60.        ],\n",
              "       [ 98.        ,   0.        ,   0.        ,   0.        ,\n",
              "          0.        ,   0.        ,  64.        ],\n",
              "       [100.66197183,   1.        ,   0.        ,   0.        ,\n",
              "          0.        ,   0.        ,  42.        ],\n",
              "       [101.        ,   0.        ,   0.        ,   1.        ,\n",
              "          0.        ,   0.        ,  49.        ],\n",
              "       [102.        ,   1.        ,   0.        ,   1.        ,\n",
              "          0.        ,   0.        ,  33.        ],\n",
              "       [100.        ,   0.        ,   1.        ,   1.        ,\n",
              "          0.        ,   0.        ,  27.        ],\n",
              "       [102.        ,   1.        ,   0.        ,   0.        ,\n",
              "          0.        ,   0.        ,  24.        ],\n",
              "       [101.        ,   1.        ,   1.        ,   0.        ,\n",
              "          0.        ,   0.        ,  47.        ],\n",
              "       [100.66197183,   0.        ,   1.        ,   0.        ,\n",
              "          1.        ,   0.        ,  82.        ],\n",
              "       [103.        ,   1.        ,   1.        ,   0.        ,\n",
              "          1.        ,   0.        ,  70.        ],\n",
              "       [100.66197183,   1.        ,   0.        ,   0.        ,\n",
              "          0.        ,   1.        ,  34.        ],\n",
              "       [101.        ,   0.        ,   0.        ,   0.        ,\n",
              "          1.        ,   0.        ,  83.        ],\n",
              "       [101.        ,   1.        ,   0.        ,   1.        ,\n",
              "          0.        ,   0.        ,  68.        ],\n",
              "       [ 98.        ,   0.        ,   1.        ,   1.        ,\n",
              "          0.        ,   0.        ,  83.        ],\n",
              "       [ 98.        ,   1.        ,   0.        ,   1.        ,\n",
              "          0.        ,   0.        ,  40.        ],\n",
              "       [100.66197183,   0.        ,   0.        ,   0.        ,\n",
              "          0.        ,   0.        ,  84.        ],\n",
              "       [100.66197183,   0.        ,   0.        ,   1.        ,\n",
              "          0.        ,   0.        ,  75.        ]])"
            ]
          },
          "metadata": {},
          "execution_count": 28
        }
      ]
    },
    {
      "cell_type": "code",
      "source": [
        "transformer.fit_transform(X_train).shape"
      ],
      "metadata": {
        "colab": {
          "base_uri": "https://localhost:8080/"
        },
        "id": "ED5sMODIx-qj",
        "outputId": "746149da-b7b4-49d8-a68f-8ea6062b607c"
      },
      "execution_count": null,
      "outputs": [
        {
          "output_type": "stream",
          "name": "stderr",
          "text": [
            "/usr/local/lib/python3.9/dist-packages/sklearn/preprocessing/_encoders.py:868: FutureWarning: `sparse` was renamed to `sparse_output` in version 1.2 and will be removed in 1.4. `sparse_output` is ignored unless you leave `sparse` to its default value.\n",
            "  warnings.warn(\n"
          ]
        },
        {
          "output_type": "execute_result",
          "data": {
            "text/plain": [
              "(80, 7)"
            ]
          },
          "metadata": {},
          "execution_count": 30
        }
      ]
    },
    {
      "cell_type": "code",
      "source": [
        "transformer.transform(X_test).shape"
      ],
      "metadata": {
        "colab": {
          "base_uri": "https://localhost:8080/"
        },
        "id": "2CVg4crzyJcH",
        "outputId": "8ee14936-38e0-41c7-b795-fc7f218105f4"
      },
      "execution_count": null,
      "outputs": [
        {
          "output_type": "execute_result",
          "data": {
            "text/plain": [
              "(20, 7)"
            ]
          },
          "metadata": {},
          "execution_count": 31
        }
      ]
    },
    {
      "cell_type": "code",
      "source": [],
      "metadata": {
        "id": "xKNFEJsxyvnv"
      },
      "execution_count": null,
      "outputs": []
    }
  ]
}